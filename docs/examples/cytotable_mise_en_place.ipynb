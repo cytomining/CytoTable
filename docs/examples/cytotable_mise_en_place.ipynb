{
 "cells": [
  {
   "cell_type": "markdown",
   "id": "ce6594c1-702f-4724-b190-5370e7396d3e",
   "metadata": {},
   "source": [
    "# CytoTable mise en place\n",
    "\n",
    "This notebook includes a quick demonstration of CytoTable to help you understand the basics of using this project."
   ]
  },
  {
   "cell_type": "code",
   "execution_count": 1,
   "id": "c529e38f-8784-4a17-955b-06ea0b2375ce",
   "metadata": {},
   "outputs": [],
   "source": [
    "import pathlib\n",
    "import cytotable\n",
    "\n",
    "# setup a data directory to reference\n",
    "data_dir = \"../../tests/data/cellprofiler/examplehuman\""
   ]
  },
  {
   "cell_type": "code",
   "execution_count": 12,
   "id": "d45b25f0-c115-4f95-8521-addc45bb8a90",
   "metadata": {},
   "outputs": [
    {
     "data": {
      "text/plain": [
       "[PosixPath('../../tests/data/cellprofiler/examplehuman/Experiment.csv'),\n",
       " PosixPath('../../tests/data/cellprofiler/examplehuman/PH3.csv'),\n",
       " PosixPath('../../tests/data/cellprofiler/examplehuman/Cytoplasm.csv'),\n",
       " PosixPath('../../tests/data/cellprofiler/examplehuman/Image.csv'),\n",
       " PosixPath('../../tests/data/cellprofiler/examplehuman/Nuclei.csv'),\n",
       " PosixPath('../../tests/data/cellprofiler/examplehuman/Cells.csv')]"
      ]
     },
     "execution_count": 12,
     "metadata": {},
     "output_type": "execute_result"
    }
   ],
   "source": [
    "# show the files we will use as source data with CytoTable\n",
    "list(pathlib.Path(data_dir).glob(\"*.csv\"))"
   ]
  },
  {
   "cell_type": "code",
   "execution_count": null,
   "id": "78f1f734-16f5-4957-9aeb-ad421d3d1bae",
   "metadata": {},
   "outputs": [],
   "source": []
  }
 ],
 "metadata": {
  "kernelspec": {
   "display_name": "Python 3 (ipykernel)",
   "language": "python",
   "name": "python3"
  },
  "language_info": {
   "codemirror_mode": {
    "name": "ipython",
    "version": 3
   },
   "file_extension": ".py",
   "mimetype": "text/x-python",
   "name": "python",
   "nbconvert_exporter": "python",
   "pygments_lexer": "ipython3",
   "version": "3.10.16"
  }
 },
 "nbformat": 4,
 "nbformat_minor": 5
}
